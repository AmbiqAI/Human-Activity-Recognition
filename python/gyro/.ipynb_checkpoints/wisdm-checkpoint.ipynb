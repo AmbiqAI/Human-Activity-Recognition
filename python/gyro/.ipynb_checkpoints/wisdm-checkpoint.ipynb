{
 "cells": [
  {
   "cell_type": "code",
   "execution_count": 11,
   "id": "b8f1f837",
   "metadata": {},
   "outputs": [],
   "source": [
    "import tensorflow as tf\n",
    "import numpy as np\n",
    "import pandas as pd\n",
    "from scipy.io import arff"
   ]
  },
  {
   "cell_type": "code",
   "execution_count": 19,
   "id": "73ef238d",
   "metadata": {},
   "outputs": [
    {
     "data": {
      "text/plain": [
       "array([[0.25488394, -0.4245899, '-0.99330395;'],\n",
       "       [0.30175558, -0.22218966, '-0.9496281;'],\n",
       "       [0.28790715, -0.14122956, '-1.0955694;'],\n",
       "       [0.4029557, 0.27209303, '-1.0060872;']], dtype=object)"
      ]
     },
     "execution_count": 19,
     "metadata": {},
     "output_type": "execute_result"
    }
   ],
   "source": [
    "data = pd.read_csv('data_1601_gyro_watch.txt')\n",
    "data.iloc[0:4, 3:6].to_numpy()"
   ]
  },
  {
   "cell_type": "code",
   "execution_count": 21,
   "id": "d963e433",
   "metadata": {},
   "outputs": [
    {
     "ename": "SyntaxError",
     "evalue": "invalid syntax (3083250229.py, line 5)",
     "output_type": "error",
     "traceback": [
      "\u001b[1;36m  Input \u001b[1;32mIn [21]\u001b[1;36m\u001b[0m\n\u001b[1;33m    for i in range(0 : data.shape[0]: stride):\u001b[0m\n\u001b[1;37m                     ^\u001b[0m\n\u001b[1;31mSyntaxError\u001b[0m\u001b[1;31m:\u001b[0m invalid syntax\n"
     ]
    }
   ],
   "source": [
    "def windowsForUser(fileName, windowSize, stride, windows):\n",
    "    data = pd.read_csv(fileName, names=['user id', 'Activity Label', 'Time Stamp', 'X', 'Y', 'Z'])\n",
    "    data.to_csv(fileName)\n",
    "    data = data.sort_values('Time Stamp')\n",
    "    for i in range(0 : data.shape[0]: stride):\n",
    "        newWindow = data.iloc[i:i+windowSize, 3:6]\n",
    "        windows = windows.append(newWindow)"
   ]
  },
  {
   "cell_type": "code",
   "execution_count": null,
   "id": "17d3c718",
   "metadata": {},
   "outputs": [],
   "source": []
  },
  {
   "cell_type": "code",
   "execution_count": null,
   "id": "ad591ea1",
   "metadata": {},
   "outputs": [],
   "source": []
  }
 ],
 "metadata": {
  "kernelspec": {
   "display_name": "Python 3 (ipykernel)",
   "language": "python",
   "name": "python3"
  },
  "language_info": {
   "codemirror_mode": {
    "name": "ipython",
    "version": 3
   },
   "file_extension": ".py",
   "mimetype": "text/x-python",
   "name": "python",
   "nbconvert_exporter": "python",
   "pygments_lexer": "ipython3",
   "version": "3.9.13"
  }
 },
 "nbformat": 4,
 "nbformat_minor": 5
}
